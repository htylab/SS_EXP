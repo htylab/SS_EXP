{
 "cells": [
  {
   "cell_type": "markdown",
   "metadata": {},
   "source": [
    "# 信號與系統實習期末專題: 心跳信號量測"
   ]
  },
  {
   "cell_type": "markdown",
   "metadata": {},
   "source": [
    "## 時程表\n",
    "\n",
    "* 11/11 分組、發放材料、Arduino\n",
    "* 11/18, 12/2 自由使用實驗教室 9:10~11:30\n",
    "* 11/25 點名，與老師討論進度 \n",
    "* 12/9 期末demo\n",
    "* 12/16 期末考 (紙筆考試)"
   ]
  },
  {
   "cell_type": "markdown",
   "metadata": {},
   "source": [
    "## 期末專題評分方式\n",
    "\n",
    "## (一) 即時心跳波形顯示 25%\n",
    "* Arduino 類比數位轉換參考程式碼 https://github.com/htylab/SS_EXP/blob/master/heartbeat/analogread2.ino\n",
    "* Python 即時繪圖參考程式碼 https://github.com/htylab/SS_EXP/blob/master/heartbeat/pulse_plot.py\n",
    "* 注意：嘗試計算並濾除直流準位會得到較好顯示效果\n",
    "\n",
    "## (二) 12/9 期末demo 75%\n",
    "\n",
    "\n",
    "建議額外功能\n",
    "* (1)即時信號頻譜顯示，橫軸以 (Hz)計算，並能看出心跳頻帶\n",
    "* (2)設計一FIR filter ，說明其設計過濾頻帶，畫出頻率響應圖，並顯示即時顯示信號濾波前後結果。\n",
    "* (3)以z-domain plot畫出你所設計的FIR濾波器之零點極點，注意，零點應調整增益使其位置在單位圓上\n",
    "* (4)即時心率計算\n",
    "* (5)視窗介面製作\n",
    "* (6)手機連結顯示波形及心率\n",
    "* (7)以網頁雲端介面即時顯示心跳波形及心率計算\n",
    "* (8)心率變異性(Heart Rate Variability, HRV)計算\n",
    "* (9)以AI模型辨認脈波之波峰\n",
    "\n",
    "\n",
    "\n",
    "\n"
   ]
  },
  {
   "cell_type": "code",
   "execution_count": null,
   "metadata": {},
   "outputs": [],
   "source": []
  }
 ],
 "metadata": {
  "kernelspec": {
   "display_name": "Python 3",
   "language": "python",
   "name": "python3"
  },
  "language_info": {
   "codemirror_mode": {
    "name": "ipython",
    "version": 3
   },
   "file_extension": ".py",
   "mimetype": "text/x-python",
   "name": "python",
   "nbconvert_exporter": "python",
   "pygments_lexer": "ipython3",
   "version": "3.6.4"
  }
 },
 "nbformat": 4,
 "nbformat_minor": 2
}
